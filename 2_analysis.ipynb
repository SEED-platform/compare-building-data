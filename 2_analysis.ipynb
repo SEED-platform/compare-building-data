{
 "cells": [
  {
   "cell_type": "code",
   "execution_count": null,
   "metadata": {},
   "outputs": [],
   "source": [
    "import warnings\n",
    "from pathlib import Path\n",
    "\n",
    "import matplotlib.pyplot as plt\n",
    "import pandas as pd\n",
    "import seaborn as sns\n",
    "from comstock_processor import ComStockProcessor\n",
    "\n",
    "dataset_path = Path().resolve() / \"datasets\"\n",
    "print(f\"Dataset path: {dataset_path}\")\n",
    "\n",
    "comstock_path = dataset_path / \"comstock\"\n",
    "print(f\"ComStock path: {comstock_path}\")\n",
    "\n",
    "espm_path = dataset_path / \"espm\"\n",
    "print(f\"ESPM path: {espm_path}\")\n",
    "\n",
    "figures_path = Path().resolve() / \"figures\"\n",
    "print(f\"Figures path: {figures_path}\")\n",
    "\n",
    "# auto reload any changes in the module\n",
    "%load_ext autoreload\n",
    "\n",
    "warnings.filterwarnings(\"ignore\", category=FutureWarning)\n",
    "# ignore SettingWithCopyWarning\n",
    "pd.options.mode.chained_assignment = None"
   ]
  },
  {
   "cell_type": "markdown",
   "metadata": {},
   "source": [
    "# ComStock"
   ]
  },
  {
   "cell_type": "markdown",
   "metadata": {},
   "source": [
    "### Pull down ComStock data\n"
   ]
  },
  {
   "cell_type": "code",
   "execution_count": null,
   "metadata": {},
   "outputs": [],
   "source": [
    "# Download and convert the data file to a dataframe.\n",
    "processor = ComStockProcessor(state=\"All\", county_name=\"All\", building_type=\"All\", upgrade=\"0\", base_dir=comstock_path)\n",
    "df_all = processor.process_metadata(save_dir=comstock_path)\n",
    "display(df_all)"
   ]
  },
  {
   "cell_type": "markdown",
   "metadata": {},
   "source": [
    "### Read in ComStock data"
   ]
  },
  {
   "cell_type": "code",
   "execution_count": null,
   "metadata": {},
   "outputs": [],
   "source": [
    "# get the dimensions\n",
    "print(df_all.shape)\n",
    "# show all states\n",
    "print(df_all[\"in.state\"].unique())\n",
    "# show all the building types\n",
    "print(df_all[\"in.comstock_building_type\"].unique())"
   ]
  },
  {
   "cell_type": "code",
   "execution_count": null,
   "metadata": {},
   "outputs": [],
   "source": [
    "# save the names of the fields to a list\n",
    "fields = df_all.columns\n",
    "with open(comstock_path / \"fields.txt\", \"w\") as f:\n",
    "    f.write(\"\\n\".join(fields))\n",
    "\n",
    "# force the climate zone to be a string\n",
    "df_all[\"in.ashrae_iecc_climate_zone_2006\"] = df_all[\"in.ashrae_iecc_climate_zone_2006\"].astype(str)\n",
    "# print the unique values\n",
    "print(df_all[\"in.ashrae_iecc_climate_zone_2006\"].unique())"
   ]
  },
  {
   "cell_type": "code",
   "execution_count": null,
   "metadata": {},
   "outputs": [],
   "source": [
    "# calculate some new columns\n",
    "df_all[\"EUI_kBTUft2\"] = df_all[\"out.site_energy.total.energy_consumption_intensity\"] * 3.412  # kwh/ft2 to kbtu/ft2\n",
    "\n",
    "# find if climate zone 7A or 7B or 7\n",
    "df_cz7 = df_all[df_all[\"in.ashrae_iecc_climate_zone_2006\"].str.contains(\"7\")]\n",
    "print(df_cz7[\"in.state\"].unique())\n",
    "df_co_cz7 = df_cz7[df_cz7[\"in.state\"] == \"CO\"]\n",
    "df_pitkin = df_all[df_all[\"in.county_name\"] == \"CO, Pitkin County\"]\n",
    "\n",
    "# print the dimensions for each dataframe\n",
    "print(f\"all: {df_all.shape}\")\n",
    "print(f\"cz7: {df_cz7.shape}\")\n",
    "print(f\"cz7 co: {df_co_cz7.shape}\")\n",
    "print(f\"cz7 pitkin: {df_pitkin.shape}\")"
   ]
  },
  {
   "cell_type": "code",
   "execution_count": null,
   "metadata": {},
   "outputs": [],
   "source": [
    "display(df_cz7)\n",
    "display(df_pitkin)\n",
    "\n",
    "# # list all the columns that have \"weighted\" and \"intensity\" in the name\n",
    "# weighted_cols = [col for col in df_all.columns if 'weighted' in col]\n",
    "# print(weighted_cols)"
   ]
  },
  {
   "cell_type": "code",
   "execution_count": null,
   "metadata": {},
   "outputs": [],
   "source": [
    "# use seaborn\n",
    "\n",
    "# return the quartiles of the column out.site_energy.total.energy_consumption_intensity\n",
    "print(df_cz7[\"EUI_kBTUft2\"].describe())\n",
    "\n",
    "# create density plot\n",
    "sns.kdeplot(df_cz7[\"EUI_kBTUft2\"], shade=True)\n",
    "# add dashed lines for the quartiles\n",
    "describe_data = df_cz7[\"EUI_kBTUft2\"].describe()\n",
    "plt.axvline(describe_data[\"25%\"], color=\"r\", linestyle=\"--\")\n",
    "plt.axvline(describe_data[\"50%\"], color=\"g\", linestyle=\"--\")\n",
    "plt.axvline(describe_data[\"75%\"], color=\"b\", linestyle=\"--\")\n",
    "plt.xlabel(\"Site Energy EUI (kBtu/ft2)\")\n",
    "plt.title(f\"All Building Types - n={len(df_cz7)}\")\n",
    "# display the quartiles in a text box\n",
    "plt.text(0.5, 0.5, describe_data, transform=plt.gca().transAxes)\n",
    "plt.xlim(0)\n",
    "\n",
    "# add in the df_piitkin data\n",
    "sns.kdeplot(df_pitkin[\"EUI_kBTUft2\"], shade=True)\n",
    "plt.show()"
   ]
  },
  {
   "cell_type": "code",
   "execution_count": null,
   "metadata": {},
   "outputs": [],
   "source": [
    "# create KDE's for only \"SmallOffice\", \"MediumOffice\", \"LargeOffice\"\n",
    "df_cz7_office = df_cz7[df_cz7[\"in.comstock_building_type\"].isin([\"SmallOffice\", \"MediumOffice\", \"LargeOffice\"])]\n",
    "df_cz7_co_office = df_co_cz7[df_co_cz7[\"in.comstock_building_type\"].isin([\"SmallOffice\", \"MediumOffice\", \"LargeOffice\"])]\n",
    "\n",
    "# create kernel density plot of the column EUI_kBTUft2, using seaborn\n",
    "sns.kdeplot(df_cz7_office[\"EUI_kBTUft2\"], fill=True, legend=True)\n",
    "# add in the df_piitkin data\n",
    "sns.kdeplot(df_cz7[\"EUI_kBTUft2\"], fill=True, legend=True)\n",
    "sns.kdeplot(df_cz7_co_office[\"EUI_kBTUft2\"], fill=True, legend=True)\n",
    "# add dashed lines for the quartiles\n",
    "describe_data = df_cz7_office[\"EUI_kBTUft2\"].quantile([0, 0.25, 0.5, 0.75, 1.0])\n",
    "describe_data = describe_data.to_dict()\n",
    "display(describe_data)\n",
    "# show only describe from the column EUI_kBTUft2\n",
    "\n",
    "# add line at 47.2 called CBECS C/VC CZ Office\n",
    "plt.axvline(47.2, color=\"k\", linestyle=\"--\", label=\"CBECS C/VC CZ Office\")\n",
    "plt.axvline(60, color=\"k\", linestyle=\":\", label=\"ASHRAE Std 100\")\n",
    "\n",
    "plt.axvline(describe_data[0.25], color=\"r\", linestyle=\"--\")\n",
    "plt.axvline(describe_data[0.5], color=\"g\", linestyle=\"--\")\n",
    "plt.axvline(describe_data[0.75], color=\"b\", linestyle=\"--\")\n",
    "plt.xlabel(\"Site Energy EUI - Offices (kBtu/ft2)\")\n",
    "plt.title(\"Distribution of Office Building Types EUI\")\n",
    "\n",
    "\n",
    "# display the quartiles in a text box\n",
    "textstr = \"ComStock All CZ7 Offices Stats:\\n\" + \"\\n\".join([f\"{k*100}%: {v:.2f}\" for k, v in describe_data.items()])\n",
    "\n",
    "plt.text(0.5, 0.1, textstr, transform=plt.gca().transAxes)\n",
    "plt.xlim(0, 350)\n",
    "\n",
    "# add legend\n",
    "plt.legend([\"CZ7 Offices (All)\", \"CZ7 Buildings (All)\", \"CZ7 Offices (in CO)\", \"CBECS C/VC CZ Office 25%-ile\", \"Std100 EUI Target 25%-ile\"])\n",
    "\n",
    "plt.show()"
   ]
  },
  {
   "cell_type": "markdown",
   "metadata": {},
   "source": [
    "# CBECS\n",
    "\n"
   ]
  },
  {
   "cell_type": "code",
   "execution_count": null,
   "metadata": {},
   "outputs": [],
   "source": [
    "# read in the xlsx spreadsheet sheet called cbecs2018_final_public\n",
    "\n",
    "cbecs2018 = pd.read_excel(dataset_path / \"cbecs\" / \"cbecs2018_final_public.xlsx\", sheet_name=\"cbecs2018_final_public\")"
   ]
  },
  {
   "cell_type": "code",
   "execution_count": null,
   "metadata": {},
   "outputs": [],
   "source": [
    "display(cbecs2018)"
   ]
  },
  {
   "cell_type": "code",
   "execution_count": null,
   "metadata": {},
   "outputs": [],
   "source": [
    "# calculate the total kbtu/ft2 for each building\n",
    "cbecs2018[\"total_kbtu_ft2\"] = cbecs2018[\"MFBTU\"] / cbecs2018[\"SQFT\"]\n",
    "\n",
    "# create the kde plot of all kbtu/ft2\n",
    "sns.kdeplot(cbecs2018[\"total_kbtu_ft2\"], fill=True)\n",
    "\n",
    "# filter only offices\n",
    "offices = cbecs2018[cbecs2018[\"PBA\"] == 2]\n",
    "sns.kdeplot(offices[\"total_kbtu_ft2\"], fill=True)\n",
    "\n",
    "# only offices in very cold\n",
    "offices_very_cold = offices[offices[\"PUBCLIM\"] == 1]\n",
    "sns.kdeplot(offices_very_cold[\"total_kbtu_ft2\"], fill=True)\n",
    "# add legend\n",
    "plt.legend([\"All\", \"Offices\", \"Offices in Very Cold\"])\n",
    "plt.xlim(0, 200)\n",
    "plt.title(\"CBECS Offices\")\n",
    "\n",
    "\n",
    "# 1st quartile of the offices_very_cold\n",
    "offices_very_cold_1st_quartile = offices_very_cold[\"total_kbtu_ft2\"].quantile(0.25)\n",
    "# plot as line\n",
    "plt.axvline(offices_very_cold_1st_quartile, color=\"black\", linestyle=\":\")"
   ]
  },
  {
   "cell_type": "markdown",
   "metadata": {},
   "source": [
    "# ESPM Colorado Site EUI\n",
    "https://portfoliomanager.energystar.gov/dataExplorer/?_gl=1*1cjut0r*_ga*NzE4OTQ5MDM4LjE3MjM1ODY2NzY.*_ga_S0KJTVVLQ6*MTcyMzU4NjY3Ni4xLjAuMTcyMzU4NjY3Ni4wLjAuMA..\n"
   ]
  },
  {
   "cell_type": "code",
   "execution_count": null,
   "metadata": {},
   "outputs": [],
   "source": [
    "# show histogram of the building types - in.comstock_building_type\n",
    "\n",
    "# It would be nice to have this image for each of the data sources\n",
    "sns.histplot(df_cz7[\"in.comstock_building_type\"])\n",
    "plt.xlabel(\"Building Type\")\n",
    "plt.title(\"Building Types in All Climate Zone 7\")\n",
    "plt.xticks(rotation=90)\n",
    "plt.show()\n",
    "\n",
    "# show histogram of the building types - in.comstock_building_type\n",
    "sns.histplot(df_co_cz7[\"in.comstock_building_type\"])\n",
    "plt.xlabel(\"Building Type\")\n",
    "plt.title(\"Building Types in CO Climate Zone 7\")\n",
    "plt.xticks(rotation=90)\n",
    "plt.show()"
   ]
  },
  {
   "cell_type": "markdown",
   "metadata": {},
   "source": [
    "# Data Comparison"
   ]
  },
  {
   "cell_type": "code",
   "execution_count": null,
   "metadata": {},
   "outputs": [],
   "source": [
    "# Read in std data\n",
    "std100_25th_percentile = pd.read_excel(dataset_path / \"std100\" / \"std100data.xlsx\", sheet_name=\"site_energy_25th_percentile\")\n",
    "std100_40th_percentile = pd.read_excel(dataset_path / \"std100\" / \"std100data.xlsx\", sheet_name=\"site_energy_40th_percentile\")\n",
    "std100_50th_percentile = pd.read_excel(dataset_path / \"std100\" / \"std100data.xlsx\", sheet_name=\"site_energy_50th_percentile\")\n",
    "\n",
    "# display(std25thPercentile)\n",
    "\n",
    "# Read in ESPM data\n",
    "espm_data = pd.read_excel(dataset_path / \"espm\" / \"ESPM_AllBuildingTypes_AllClimateZones_AllPercentiles.xlsx\", sheet_name=\"Report\")\n",
    "\n",
    "# display(espm_data)"
   ]
  },
  {
   "cell_type": "code",
   "execution_count": null,
   "metadata": {},
   "outputs": [],
   "source": [
    "def all_buildings_figure(\n",
    "    cbecs_climate_zone, comstock_climate_zone, espm_climate_zone, std_climate_zone, climate_zone_descriptor, cbecs_footnote_text\n",
    "):\n",
    "    # CBECS Data Handling:\n",
    "    #   calculate the total kbtu/ft2 for each building\n",
    "    #   add in literal column for data_source for union and display in visualization\n",
    "    #   Filter to climate zone (See lookups.py or climate_zone_crosswalk.xlsx in the cbecs data folder for additional definitions for different numbers, not the same as climate zone numbers)\n",
    "    #   Select data needed for union and visualization\n",
    "    #   Note if needed: PBA is building type\n",
    "    cbecs2018[\"EUI_kBTUft2\"] = cbecs2018[\"MFBTU\"] / cbecs2018[\"SQFT\"]\n",
    "    cbecs2018[\"data_source\"] = \"CBECS\"\n",
    "    cbecs2018[\"PUBCLIM\"] = cbecs_climate_zone\n",
    "    cbecs2018_for_union = cbecs2018[[\"data_source\", \"EUI_kBTUft2\"]]\n",
    "\n",
    "    # ComStock Data Handling:\n",
    "    #   Filter just to climate zone\n",
    "    #   add in literal column for data_source for union and display in visualization\n",
    "    #   Select data needed for union and visualization\n",
    "    #   Rename columns for union\n",
    "    #   Note if needed: in.comstock_building_type is building type for comstock data;\n",
    "    comstock_cz = df_all[df_all[\"in.ashrae_iecc_climate_zone_2006\"].str.contains(comstock_climate_zone)]\n",
    "    comstock_cz[\"data_source\"] = \"ComStock\"\n",
    "    comstock_for_union = comstock_cz[[\"data_source\", \"EUI_kBTUft2\"]]\n",
    "\n",
    "    # ESPM Data Handling\n",
    "    #   Filter just to climate zone\n",
    "    espm_data_cz = espm_data[espm_data[\"ClimateZone\"].str.contains(espm_climate_zone)]\n",
    "\n",
    "    # Union CBECs and ComStock data for visualization\n",
    "    union_df = pd.concat([cbecs2018_for_union, comstock_for_union], ignore_index=True)\n",
    "\n",
    "    # Create box plot for unioned data\n",
    "    sns.boxplot(data=union_df, x=\"EUI_kBTUft2\", y=\"data_source\")\n",
    "\n",
    "    # layer in box plot for ESPM data (data in very different format so this step is required to get it to display correctly)\n",
    "    sns.boxplot(\n",
    "        data=[\n",
    "            espm_data_cz[\"FifthPercentile\"].mean(),\n",
    "            espm_data_cz[\"TwentyFifthPercentile\"].mean(),\n",
    "            espm_data_cz[\"Median\"].mean(),\n",
    "            espm_data_cz[\"SeventyFifthPercentile\"].mean(),\n",
    "            espm_data_cz[\"NinetyFifthPercentile\"].mean(),\n",
    "        ],\n",
    "        orient=\"h\",\n",
    "        color=\"tab:blue\",\n",
    "    )\n",
    "\n",
    "    # Create percentile lines, averaged for all building types in zone\n",
    "    std100_25th_percentile_mean = std100_25th_percentile[std_climate_zone].mean()\n",
    "    std100_40th_percentile_mean = std100_40th_percentile[std_climate_zone].mean()\n",
    "    std100_50th_percentile_mean = std100_50th_percentile[std_climate_zone].mean()\n",
    "\n",
    "    plt.axvline(std100_25th_percentile_mean, color=\"gold\", linestyle=\"--\", linewidth=2, label=\"std100 25th Percentile\")\n",
    "    plt.axvline(std100_40th_percentile_mean, color=\"goldenrod\", linestyle=\"--\", linewidth=2, label=\"std100 40th Percentile\")\n",
    "    plt.axvline(std100_50th_percentile_mean, color=\"darkgoldenrod\", linestyle=\"--\", linewidth=2, label=\"std100 50th Percentile\")\n",
    "\n",
    "    plt.legend(bbox_to_anchor=(1.0, 1), loc=\"upper left\")\n",
    "    plt.xlabel(\"Site Energy EUI (kBtu/ft2)\")\n",
    "    plt.ylabel(\"Data Source\")\n",
    "\n",
    "    plt.title(f\"Comparison of Climate Zone {espm_climate_zone} {climate_zone_descriptor} Standards for All Building Types\", wrap=True)\n",
    "    plt.xlim(0, 250)\n",
    "\n",
    "    # Create label for ESPM data\n",
    "    text_kwargs = {\"ha\": \"right\", \"va\": \"baseline\", \"fontsize\": 10, \"color\": \"black\"}\n",
    "    plt.text(-4, 2.04, \"ESPM\", **text_kwargs)\n",
    "\n",
    "    # Create footnote key for ESPM data\n",
    "    text_kwargs = {\"ha\": \"right\", \"va\": \"baseline\", \"fontsize\": 10, \"color\": \"black\"}\n",
    "    plt.text(-2.25, -0.01, \"*\", **text_kwargs)\n",
    "\n",
    "    # Create note about climate zones in CBECs data\n",
    "    text_kwargs = {\"ha\": \"left\", \"va\": \"bottom\", \"fontsize\": 10, \"color\": \"black\", \"wrap\": True}\n",
    "    plt.text(255, 2, cbecs_footnote_text, **text_kwargs)\n",
    "\n",
    "    # Save figure\n",
    "    plt.subplots_adjust(right=0.7)\n",
    "    plt.savefig(f\"{figures_path}/all_buildings_cz{espm_climate_zone}.png\", bbox_inches=\"tight\")"
   ]
  },
  {
   "cell_type": "code",
   "execution_count": null,
   "metadata": {},
   "outputs": [],
   "source": [
    "def retail_and_office_buildings_figure(\n",
    "    cbecs_climate_zone, comstock_climate_zone, espm_climate_zone, std_climate_zone, climate_zone_descriptor, cbecs_footnote_text\n",
    "):\n",
    "    # CBECS Data Handling:\n",
    "    #   Filter to retail and office building types\n",
    "    #       Note: Only included \"2 - Office\" and \"25 - Retail other than mall\"; did not include \"23 - Strip shopping center\" or \"24 - Enclosed mall\"\n",
    "    #   calculate the total kbtu/ft2 for each building\n",
    "    #   add in literal column for data_source for union\n",
    "    #   Filter to climate zone (See lookups.py or climate_zone_crosswalk.xlsx in the cbecs data folder for additional definitions for different numbers, not the same as climate zone numbers)\n",
    "    #   Select data needed for union and visualization\n",
    "    cbecs2018_office_and_retail = cbecs2018[cbecs2018[\"PBA\"].isin([2, 25])]\n",
    "    cbecs2018_office_and_retail[\"EUI_kBTUft2\"] = cbecs2018_office_and_retail[\"MFBTU\"] / cbecs2018_office_and_retail[\"SQFT\"]\n",
    "    cbecs2018_office_and_retail[\"data_source\"] = \"CBECS\"\n",
    "    cbecs2018_office_and_retail[\"PUBCLIM\"] = cbecs_climate_zone\n",
    "    cbecs2018_office_and_retail_for_union = cbecs2018_office_and_retail[[\"data_source\", \"EUI_kBTUft2\"]]\n",
    "\n",
    "    # Comstock Data Handling:\n",
    "    #   convert ComStock KWh to KBtu\n",
    "    #   Filter to retail and office building types\n",
    "    #       Note: did not include RetailStripMall\n",
    "    #   Filter to climate zone\n",
    "    #   add in literal column for data_source for union and display in visualization\n",
    "    #   Select data needed for union and visualization\n",
    "    #   Rename columns for union\n",
    "    comstock_office_and_retail = df_all[\n",
    "        df_all[\"in.comstock_building_type\"].isin([\"LargeOffice\", \"SmallOffice\", \"RetailStandalone\", \"MediumOffice\"])\n",
    "    ]\n",
    "    comstock_office_and_retail_cz = comstock_office_and_retail[\n",
    "        comstock_office_and_retail[\"in.ashrae_iecc_climate_zone_2006\"].str.contains(comstock_climate_zone)\n",
    "    ]\n",
    "    comstock_office_and_retail_cz[\"data_source\"] = \"ComStock\"\n",
    "    comstock_office_and_retail_cz_for_union = comstock_office_and_retail_cz[[\"data_source\", \"EUI_kBTUft2\"]]\n",
    "\n",
    "    # ESPM Data Handling\n",
    "    #   Filter to retail and office building types\n",
    "    #       Note: did not include \"Mailing Center/Post Office\", \"Medical Office\", or \"Veterinary Office\"\n",
    "    #   Filter to climate zone\n",
    "    espm_data_office_and_retail = espm_data[\n",
    "        espm_data[\"PropertyTypeSubcategory\"].isin([\"Other - Retail/Mall\", \"Retail Store\", \"Financial Office\", \"Office\"])\n",
    "    ]\n",
    "    espm_data_office_and_retail = espm_data_office_and_retail[espm_data_office_and_retail[\"ClimateZone\"].str.contains(espm_climate_zone)]\n",
    "\n",
    "    # Union CBECs and ComStock data for visualization\n",
    "    union_df_office_and_retail = pd.concat(\n",
    "        [cbecs2018_office_and_retail_for_union, comstock_office_and_retail_cz_for_union],\n",
    "        ignore_index=True,\n",
    "    )\n",
    "\n",
    "    # Create box plot for unioned data\n",
    "    sns.boxplot(data=union_df_office_and_retail, x=\"EUI_kBTUft2\", y=\"data_source\")\n",
    "\n",
    "    # layer in box plot for ESPM data (data in very different format so this step is required to get it to display correctly)\n",
    "    sns.boxplot(\n",
    "        data=[\n",
    "            espm_data_office_and_retail[\"FifthPercentile\"].mean(),\n",
    "            espm_data_office_and_retail[\"TwentyFifthPercentile\"].mean(),\n",
    "            espm_data_office_and_retail[\"Median\"].mean(),\n",
    "            espm_data_office_and_retail[\"SeventyFifthPercentile\"].mean(),\n",
    "            espm_data_office_and_retail[\"NinetyFifthPercentile\"].mean(),\n",
    "        ],\n",
    "        orient=\"h\",\n",
    "        color=\"tab:blue\",\n",
    "    )\n",
    "\n",
    "    # Create percentile lines, averaged for all building types in zone\n",
    "    # Filter to retail and office building types\n",
    "    #   Note: Did not include \"Medical office (nondiagnostic)\", \"Medical office (diagnostic)\",\"Post office/postal center\", \"Courthouse/probation office\",\"Enclosed mall\", or \"Strip shopping mall\"\n",
    "    std100_25th_percentile_office_and_retail = std100_25th_percentile[\n",
    "        std100_25th_percentile[\"Commercial Building Type\"].isin(\n",
    "            [\"Other retail\", \"Retail store\", \"Admin/professional office\", \"Government office\", \"Mixed-use office\", \"Other office\"]\n",
    "        )\n",
    "    ]\n",
    "    std100_25th_percentile_mean_office_and_retail = std100_25th_percentile_office_and_retail[std_climate_zone].mean()\n",
    "\n",
    "    std100_40th_percentile_office_and_retail = std100_40th_percentile[\n",
    "        std100_40th_percentile[\"Commercial Building Type\"].isin(\n",
    "            [\"Other retail\", \"Retail store\", \"Admin/professional office\", \"Government office\", \"Mixed-use office\", \"Other office\"]\n",
    "        )\n",
    "    ]\n",
    "    std100_40th_percentile_mean_office_and_retail = std100_40th_percentile_office_and_retail[std_climate_zone].mean()\n",
    "\n",
    "    std100_50th_percentile_office_and_retail = std100_50th_percentile[\n",
    "        std100_50th_percentile[\"Commercial Building Type\"].isin(\n",
    "            [\"Other retail\", \"Retail store\", \"Admin/professional office\", \"Government office\", \"Mixed-use office\", \"Other office\"]\n",
    "        )\n",
    "    ]\n",
    "    std100_50th_percentile_mean_office_and_retail = std100_50th_percentile_office_and_retail[std_climate_zone].mean()\n",
    "\n",
    "    plt.axvline(std100_25th_percentile_mean_office_and_retail, color=\"gold\", linestyle=\"--\", label=\"std100 25th Percentile\")\n",
    "    plt.axvline(std100_40th_percentile_mean_office_and_retail, color=\"goldenrod\", linestyle=\"--\", label=\"std100 40th Percentile\")\n",
    "    plt.axvline(std100_50th_percentile_mean_office_and_retail, color=\"darkgoldenrod\", linestyle=\"--\", label=\"std100 50th Percentile\")\n",
    "    plt.legend(bbox_to_anchor=(1.0, 1), loc=\"upper left\")\n",
    "    plt.xlabel(\"Site Energy EUI (kBtu/ft2)\")\n",
    "    plt.ylabel(\"Data Source\")\n",
    "    plt.title(\n",
    "        f\"Comparison of Climate Zone {espm_climate_zone} {climate_zone_descriptor} Standards for Retail and Office Building Types\",\n",
    "        wrap=True,\n",
    "    )\n",
    "    plt.xlim(0, 250)\n",
    "\n",
    "    # Create label for ESPM data\n",
    "    text_kwargs = {\"ha\": \"right\", \"va\": \"baseline\", \"fontsize\": 10, \"color\": \"black\"}\n",
    "    plt.text(-4, 2.04, \"ESPM\", **text_kwargs)\n",
    "\n",
    "    # Create footnote key for ESPM data\n",
    "    text_kwargs = {\"ha\": \"right\", \"va\": \"baseline\", \"fontsize\": 10, \"color\": \"black\"}\n",
    "    plt.text(-2.25, -0.01, \"*\", **text_kwargs)\n",
    "\n",
    "    # Create note about climate zones in CBECs data\n",
    "    text_kwargs = {\"ha\": \"left\", \"va\": \"bottom\", \"fontsize\": 10, \"color\": \"black\", \"wrap\": True}\n",
    "    plt.text(255, 2, cbecs_footnote_text, **text_kwargs)\n",
    "\n",
    "    # Save figure\n",
    "    plt.subplots_adjust(right=0.7)\n",
    "    plt.savefig(f\"{figures_path}/office_and_retail_buildings_cz{espm_climate_zone}.png\", bbox_inches=\"tight\")"
   ]
  },
  {
   "cell_type": "code",
   "execution_count": null,
   "metadata": {},
   "outputs": [],
   "source": [
    "def all_buildings_percentile_comparisons(\n",
    "    cbecs_climate_zone, comstock_climate_zone, espm_climate_zone, std_climate_zone, climate_zone_descriptor\n",
    "):\n",
    "    # CBECS Data Handling:\n",
    "    #   calculate the total kbtu/ft2 for each building\n",
    "    #   add in literal column for data_source for union and display in visualization\n",
    "    #   Filter to climate zone (See lookups.py or climate_zone_crosswalk.xlsx in the cbecs data folder for additional definitions for different numbers, not the same as climate zone numbers)\n",
    "    #   Select data needed for union and visualization\n",
    "    #   Note if needed: PBA is building type\n",
    "    cbecs2018[\"EUI_kBTUft2\"] = cbecs2018[\"MFBTU\"] / cbecs2018[\"SQFT\"]\n",
    "    cbecs2018[\"data_source\"] = \"CBECS\"\n",
    "    cbecs2018[\"PUBCLIM\"] = cbecs_climate_zone\n",
    "    cbecs2018_for_union = cbecs2018[[\"data_source\", \"EUI_kBTUft2\"]]\n",
    "\n",
    "    # Comstock Data Handling:\n",
    "    #   convert ComStock KWh to KBtu\n",
    "    #   Filter just to climate zone\n",
    "    #   add in literal column for data_source for union and display in visualization\n",
    "    #   Select data needed for union and visualization\n",
    "    #   Rename columns for union\n",
    "    #   Note if needed: in.comstock_building_type is building type for comstock data;\n",
    "    df_all[\"EUI_kBTUft2\"] = df_all[\"out.site_energy.total.energy_consumption_intensity\"] * 3.412\n",
    "    comstock_cz = df_all[df_all[\"in.ashrae_iecc_climate_zone_2006\"].str.contains(comstock_climate_zone)]\n",
    "    comstock_cz[\"data_source\"] = \"ComStock\"\n",
    "    comstock_for_union = comstock_cz[[\"data_source\", \"EUI_kBTUft2\"]]\n",
    "\n",
    "    # ESPM Data Handling\n",
    "    #   Filter just to climate zone\n",
    "    espm_data_cz = espm_data[espm_data[\"ClimateZone\"].str.contains(espm_climate_zone)]\n",
    "\n",
    "    # -----------------------------------------------------------------\n",
    "    # std100\n",
    "    # -----------------------------------------------------------------\n",
    "    std100_25th_percentile[\"percentile\"] = \"std100_Percentile_25\"\n",
    "    std100_25th_percentile_means = std100_25th_percentile.groupby(\"percentile\")[std_climate_zone].mean().reset_index()\n",
    "    std100_25th_percentile_means.index = [\"std100_Percentile_25\"]\n",
    "    std100_25th_percentile_means = std100_25th_percentile_means.rename(columns={std_climate_zone: \"EUI_kBTUft2\"})\n",
    "    std100_25th_percentile_means = std100_25th_percentile_means.drop(columns=[\"percentile\"])\n",
    "\n",
    "    std100_40th_percentile[\"percentile\"] = \"std100_Percentile_40\"\n",
    "    std100_40th_percentile_means = std100_40th_percentile.groupby(\"percentile\")[std_climate_zone].mean().reset_index()\n",
    "    std100_40th_percentile_means.index = [\"std100_Percentile_40\"]\n",
    "    std100_40th_percentile_means = std100_40th_percentile_means.rename(columns={std_climate_zone: \"EUI_kBTUft2\"})\n",
    "    std100_40th_percentile_means = std100_40th_percentile_means.drop(columns=[\"percentile\"])\n",
    "\n",
    "    std100_50th_percentile[\"percentile\"] = \"std100_Percentile_50\"\n",
    "    std100_50th_percentile_means = std100_50th_percentile.groupby(\"percentile\")[std_climate_zone].mean().reset_index()\n",
    "    std100_50th_percentile_means.index = [\"std100_Percentile_50\"]\n",
    "    std100_50th_percentile_means = std100_50th_percentile_means.rename(columns={std_climate_zone: \"EUI_kBTUft2\"})\n",
    "    std100_50th_percentile_means = std100_50th_percentile_means.drop(columns=[\"percentile\"])\n",
    "\n",
    "    # -----------------------------------------------------------------\n",
    "    # ESPM - Note the ESPM data export does not have a 40th percentile\n",
    "    # -----------------------------------------------------------------\n",
    "\n",
    "    espm_data_cz_25th_percentile_means = espm_data_cz.groupby(\"ClimateZone\")[\"TwentyFifthPercentile\"].mean().reset_index()\n",
    "    espm_data_cz_25th_percentile_means.index = [\"ESPM_Percentile_25\"]\n",
    "    espm_data_cz_25th_percentile_means = espm_data_cz_25th_percentile_means.rename(columns={\"TwentyFifthPercentile\": \"EUI_kBTUft2\"})\n",
    "    espm_data_cz_25th_percentile_means = espm_data_cz_25th_percentile_means.drop(columns=[\"ClimateZone\"])\n",
    "\n",
    "    espm_data_cz_50th_percentile_means = espm_data_cz.groupby(\"ClimateZone\")[\"Median\"].mean().reset_index()\n",
    "    espm_data_cz_50th_percentile_means.index = [\"ESPM_Percentile_50\"]\n",
    "    espm_data_cz_50th_percentile_means = espm_data_cz_50th_percentile_means.rename(columns={\"Median\": \"EUI_kBTUft2\"})\n",
    "    espm_data_cz_50th_percentile_means = espm_data_cz_50th_percentile_means.drop(columns=[\"ClimateZone\"])\n",
    "\n",
    "    display(espm_data_cz_25th_percentile_means)\n",
    "    # -----------------------------------------------------------------\n",
    "    # CBECS\n",
    "    # -----------------------------------------------------------------\n",
    "\n",
    "    percentiles_cbecs = cbecs2018_for_union[\"EUI_kBTUft2\"].quantile([0.25, 0.4, 0.5])\n",
    "    percentiles_cbecs = percentiles_cbecs.T\n",
    "    percentiles_cbecs.index = [\"CBECS_Percentile_25\", \"CBECS_Percentile_40\", \"CBECS_Percentile_50\"]\n",
    "\n",
    "    # -----------------------------------------------------------------\n",
    "    # ComStock\n",
    "    # -----------------------------------------------------------------\n",
    "\n",
    "    percentiles_comstock = comstock_for_union[\"EUI_kBTUft2\"].quantile([0.25, 0.4, 0.5])\n",
    "    percentiles_comstock = percentiles_comstock.T\n",
    "    percentiles_comstock.index = [\"ComStock_Percentile_25\", \"ComStock_Percentile_40\", \"ComStock_Percentile_50\"]\n",
    "\n",
    "    # -----------------------------------------------------------------\n",
    "    # Data merge steps\n",
    "    # -----------------------------------------------------------------\n",
    "\n",
    "    percentiles_union = pd.concat(\n",
    "        [\n",
    "            percentiles_cbecs,\n",
    "            percentiles_comstock,\n",
    "            std100_25th_percentile_means,\n",
    "            std100_40th_percentile_means,\n",
    "            std100_50th_percentile_means,\n",
    "            espm_data_cz_25th_percentile_means,\n",
    "            espm_data_cz_50th_percentile_means,\n",
    "        ],\n",
    "        ignore_index=False,\n",
    "    )\n",
    "\n",
    "    percentiles_union = percentiles_union.reset_index()\n",
    "\n",
    "    percentiles_union = percentiles_union.rename(columns={\"index\": \"PercentileType\"})\n",
    "\n",
    "    # -----------------------------------------------------------------\n",
    "    # Calculate percent differences, 25th percentiles\n",
    "    # -----------------------------------------------------------------\n",
    "    percentile_comparison_25 = percentiles_union[\n",
    "        percentiles_union.PercentileType.isin(\n",
    "            [\"CBECS_Percentile_25\", \"ComStock_Percentile_25\", \"std100_Percentile_25\", \"ESPM_Percentile_25\"]\n",
    "        )\n",
    "    ]\n",
    "\n",
    "    var = percentile_comparison_25[\"EUI_kBTUft2\"].to_numpy()\n",
    "    arr = ((var - var[:, None]) / var) * -100\n",
    "    percentile_comparison_25_matrix = pd.DataFrame(\n",
    "        arr, columns=percentile_comparison_25[\"PercentileType\"], index=percentile_comparison_25[\"PercentileType\"]\n",
    "    )\n",
    "\n",
    "    # -----------------------------------------------------------------\n",
    "    # Calculate percent differences, 50th percentiles\n",
    "    # -----------------------------------------------------------------\n",
    "    percentile_comparison_50 = percentiles_union[\n",
    "        percentiles_union.PercentileType.isin(\n",
    "            [\"CBECS_Percentile_50\", \"ComStock_Percentile_50\", \"std100_Percentile_50\", \"ESPM_Percentile_50\"]\n",
    "        )\n",
    "    ]\n",
    "\n",
    "    var = percentile_comparison_50[\"EUI_kBTUft2\"].to_numpy()\n",
    "    arr = ((var - var[:, None]) / var) * -100\n",
    "    percentile_comparison_50_matrix = pd.DataFrame(\n",
    "        arr, columns=percentile_comparison_50[\"PercentileType\"], index=percentile_comparison_50[\"PercentileType\"]\n",
    "    )\n",
    "\n",
    "    # -----------------------------------------------------------------\n",
    "    # Define a function for highlighting cells\n",
    "    # -----------------------------------------------------------------\n",
    "\n",
    "    def highlight_cells(val):\n",
    "        color = (\n",
    "            \"#F1959B\"\n",
    "            if 20 < val < 40\n",
    "            else \"#F07470\"\n",
    "            if 40 < val < 60\n",
    "            else \"#EA4C46\"\n",
    "            if 60 < val < 80\n",
    "            else \"#DC1C13\"\n",
    "            if val > 80\n",
    "            else \"#F1959B\"\n",
    "            if -20 > val > -40\n",
    "            else \"#F07470\"\n",
    "            if -40 > val > -60\n",
    "            else \"#EA4C46\"\n",
    "            if -60 > val > -80\n",
    "            else \"#DC1C13\"\n",
    "            if val < -80\n",
    "            else \"\"\n",
    "        )\n",
    "        return f\"background-color: {color}\"\n",
    "\n",
    "    percentile_comparison_25_matrix = (\n",
    "        percentile_comparison_25_matrix.style.applymap(highlight_cells)\n",
    "        .format(\"{:.2f}\")\n",
    "        .set_caption(f\"Comparison of Climate Zone {espm_climate_zone} {climate_zone_descriptor} Percentiles as Percent Difference\")\n",
    "    )\n",
    "    percentile_comparison_50_matrix = (\n",
    "        percentile_comparison_50_matrix.style.applymap(highlight_cells)\n",
    "        .format(\"{:.2f}\")\n",
    "        .set_caption(f\"Comparison of Climate Zone {espm_climate_zone} {climate_zone_descriptor} Percentiles as Percent Difference\")\n",
    "    )\n",
    "\n",
    "    display(percentile_comparison_25)\n",
    "    display(percentile_comparison_25_matrix)\n",
    "    display(percentile_comparison_50)\n",
    "    display(percentile_comparison_50_matrix)"
   ]
  },
  {
   "cell_type": "markdown",
   "metadata": {},
   "source": [
    "# Climate Zone 1A"
   ]
  },
  {
   "cell_type": "code",
   "execution_count": null,
   "metadata": {},
   "outputs": [],
   "source": [
    "# Define parameters for functions\n",
    "\n",
    "cbecs_climate_zone = 5\n",
    "comstock_climate_zone = \"1A\"\n",
    "espm_climate_zone = \"1A\"\n",
    "std_climate_zone = \"1A\"\n",
    "climate_zone_descriptor = \"(Hot-Humid)\"\n",
    "cbecs_footnote_text = \"*CBECs data uses a grouping of Hot or Very Hot climate zones (1A, 1B, 2A, 2B)\""
   ]
  },
  {
   "cell_type": "code",
   "execution_count": null,
   "metadata": {},
   "outputs": [],
   "source": [
    "all_buildings_figure(\n",
    "    cbecs_climate_zone, comstock_climate_zone, espm_climate_zone, std_climate_zone, climate_zone_descriptor, cbecs_footnote_text\n",
    ")"
   ]
  },
  {
   "cell_type": "code",
   "execution_count": null,
   "metadata": {},
   "outputs": [],
   "source": [
    "all_buildings_percentile_comparisons(\n",
    "    cbecs_climate_zone, comstock_climate_zone, espm_climate_zone, std_climate_zone, climate_zone_descriptor\n",
    ")"
   ]
  },
  {
   "cell_type": "code",
   "execution_count": null,
   "metadata": {},
   "outputs": [],
   "source": [
    "retail_and_office_buildings_figure(\n",
    "    cbecs_climate_zone, comstock_climate_zone, espm_climate_zone, std_climate_zone, climate_zone_descriptor, cbecs_footnote_text\n",
    ")"
   ]
  },
  {
   "cell_type": "markdown",
   "metadata": {},
   "source": [
    "# Climate Zone 2A"
   ]
  },
  {
   "cell_type": "code",
   "execution_count": null,
   "metadata": {},
   "outputs": [],
   "source": [
    "# Define parameters for functions\n",
    "\n",
    "cbecs_climate_zone = 5\n",
    "comstock_climate_zone = \"2A\"\n",
    "espm_climate_zone = \"2A\"\n",
    "std_climate_zone = \"2A\"\n",
    "climate_zone_descriptor = \"(Hot-Humid)\"\n",
    "cbecs_footnote_text = \"*CBECs data uses a grouping of Hot or Very Hot climate zones (1A, 1B, 2A, 2B)\""
   ]
  },
  {
   "cell_type": "code",
   "execution_count": null,
   "metadata": {},
   "outputs": [],
   "source": [
    "all_buildings_figure(\n",
    "    cbecs_climate_zone, comstock_climate_zone, espm_climate_zone, std_climate_zone, climate_zone_descriptor, cbecs_footnote_text\n",
    ")"
   ]
  },
  {
   "cell_type": "code",
   "execution_count": null,
   "metadata": {},
   "outputs": [],
   "source": [
    "all_buildings_percentile_comparisons(\n",
    "    cbecs_climate_zone, comstock_climate_zone, espm_climate_zone, std_climate_zone, climate_zone_descriptor\n",
    ")"
   ]
  },
  {
   "cell_type": "code",
   "execution_count": null,
   "metadata": {},
   "outputs": [],
   "source": [
    "retail_and_office_buildings_figure(\n",
    "    cbecs_climate_zone, comstock_climate_zone, espm_climate_zone, std_climate_zone, climate_zone_descriptor, cbecs_footnote_text\n",
    ")"
   ]
  },
  {
   "cell_type": "markdown",
   "metadata": {},
   "source": [
    "# Climate Zone 2B"
   ]
  },
  {
   "cell_type": "code",
   "execution_count": null,
   "metadata": {},
   "outputs": [],
   "source": [
    "# Define parameters for functions\n",
    "\n",
    "cbecs_climate_zone = 5\n",
    "comstock_climate_zone = \"2B\"\n",
    "espm_climate_zone = \"2B\"\n",
    "std_climate_zone = \"2B\"\n",
    "climate_zone_descriptor = \"(Hot-Dry / Hot-Humid)\"\n",
    "cbecs_footnote_text = \"*CBECs data uses a grouping of Hot or Very Hot climate zones (1A, 1B, 2A, 2B)\""
   ]
  },
  {
   "cell_type": "code",
   "execution_count": null,
   "metadata": {},
   "outputs": [],
   "source": [
    "all_buildings_figure(\n",
    "    cbecs_climate_zone, comstock_climate_zone, espm_climate_zone, std_climate_zone, climate_zone_descriptor, cbecs_footnote_text\n",
    ")"
   ]
  },
  {
   "cell_type": "code",
   "execution_count": null,
   "metadata": {},
   "outputs": [],
   "source": [
    "# Uncertain why this is failing since it is the same as everything else, commenting out for now, may need help investigating\n",
    "# ----------------------------------------------------------------------------------------------------------------------------\n",
    "# all_buildings_percentile_comparisons(\n",
    "#     cbecs_climate_zone, comstock_climate_zone, espm_climate_zone, std_climate_zone, climate_zone_descriptor\n",
    "# )"
   ]
  },
  {
   "cell_type": "code",
   "execution_count": null,
   "metadata": {},
   "outputs": [],
   "source": [
    "retail_and_office_buildings_figure(\n",
    "    cbecs_climate_zone, comstock_climate_zone, espm_climate_zone, std_climate_zone, climate_zone_descriptor, cbecs_footnote_text\n",
    ")"
   ]
  },
  {
   "cell_type": "markdown",
   "metadata": {},
   "source": [
    "# Climate Zone 3A"
   ]
  },
  {
   "cell_type": "code",
   "execution_count": null,
   "metadata": {},
   "outputs": [],
   "source": [
    "# Define parameters for functions\n",
    "\n",
    "cbecs_climate_zone = 4\n",
    "comstock_climate_zone = \"3A\"\n",
    "espm_climate_zone = \"3A\"\n",
    "std_climate_zone = \"3A\"\n",
    "climate_zone_descriptor = \"(Hot-Humid / Mixed Humid)\"\n",
    "cbecs_footnote_text = \"*CBECs data uses a grouping of Warm climate zones (3A, 3B, 3C)\""
   ]
  },
  {
   "cell_type": "code",
   "execution_count": null,
   "metadata": {},
   "outputs": [],
   "source": [
    "all_buildings_figure(\n",
    "    cbecs_climate_zone, comstock_climate_zone, espm_climate_zone, std_climate_zone, climate_zone_descriptor, cbecs_footnote_text\n",
    ")"
   ]
  },
  {
   "cell_type": "code",
   "execution_count": null,
   "metadata": {},
   "outputs": [],
   "source": [
    "# Uncertain why this is failing since it is the same as everything else, commenting out for now, may need help investigating\n",
    "# ----------------------------------------------------------------------------------------------------------------------------\n",
    "# all_buildings_percentile_comparisons(\n",
    "#     cbecs_climate_zone, comstock_climate_zone, espm_climate_zone, std_climate_zone, climate_zone_descriptor\n",
    "# )"
   ]
  },
  {
   "cell_type": "code",
   "execution_count": null,
   "metadata": {},
   "outputs": [],
   "source": [
    "retail_and_office_buildings_figure(\n",
    "    cbecs_climate_zone, comstock_climate_zone, espm_climate_zone, std_climate_zone, climate_zone_descriptor, cbecs_footnote_text\n",
    ")"
   ]
  },
  {
   "cell_type": "markdown",
   "metadata": {},
   "source": [
    "# Climate Zone 3B"
   ]
  },
  {
   "cell_type": "code",
   "execution_count": null,
   "metadata": {},
   "outputs": [],
   "source": [
    "# Define parameters for functions\n",
    "\n",
    "cbecs_climate_zone = 4\n",
    "comstock_climate_zone = \"3B\"\n",
    "espm_climate_zone = \"3B\"\n",
    "std_climate_zone = \"3B Other\"\n",
    "climate_zone_descriptor = \"(Hot-Humid)\"\n",
    "cbecs_footnote_text = \"*CBECs data uses a grouping of Warm climate zones (3A, 3B, 3C)\""
   ]
  },
  {
   "cell_type": "code",
   "execution_count": null,
   "metadata": {},
   "outputs": [],
   "source": [
    "all_buildings_figure(\n",
    "    cbecs_climate_zone, comstock_climate_zone, espm_climate_zone, std_climate_zone, climate_zone_descriptor, cbecs_footnote_text\n",
    ")"
   ]
  },
  {
   "cell_type": "code",
   "execution_count": null,
   "metadata": {},
   "outputs": [],
   "source": [
    "all_buildings_percentile_comparisons(\n",
    "    cbecs_climate_zone, comstock_climate_zone, espm_climate_zone, std_climate_zone, climate_zone_descriptor\n",
    ")"
   ]
  },
  {
   "cell_type": "code",
   "execution_count": null,
   "metadata": {},
   "outputs": [],
   "source": [
    "retail_and_office_buildings_figure(\n",
    "    cbecs_climate_zone, comstock_climate_zone, espm_climate_zone, std_climate_zone, climate_zone_descriptor, cbecs_footnote_text\n",
    ")"
   ]
  },
  {
   "cell_type": "markdown",
   "metadata": {},
   "source": [
    "# Climate Zone 3C"
   ]
  },
  {
   "cell_type": "code",
   "execution_count": null,
   "metadata": {},
   "outputs": [],
   "source": [
    "# Define parameters for functions\n",
    "\n",
    "cbecs_climate_zone = 4\n",
    "comstock_climate_zone = \"3C\"\n",
    "espm_climate_zone = \"3C\"\n",
    "std_climate_zone = \"3C\"\n",
    "climate_zone_descriptor = \"(Marine)\"\n",
    "cbecs_footnote_text = \"*CBECs data uses a grouping of Warm climate zones (3A, 3B, 3C)\""
   ]
  },
  {
   "cell_type": "code",
   "execution_count": null,
   "metadata": {},
   "outputs": [],
   "source": [
    "all_buildings_figure(\n",
    "    cbecs_climate_zone, comstock_climate_zone, espm_climate_zone, std_climate_zone, climate_zone_descriptor, cbecs_footnote_text\n",
    ")"
   ]
  },
  {
   "cell_type": "code",
   "execution_count": null,
   "metadata": {},
   "outputs": [],
   "source": [
    "all_buildings_percentile_comparisons(\n",
    "    cbecs_climate_zone, comstock_climate_zone, espm_climate_zone, std_climate_zone, climate_zone_descriptor\n",
    ")"
   ]
  },
  {
   "cell_type": "code",
   "execution_count": null,
   "metadata": {},
   "outputs": [],
   "source": [
    "retail_and_office_buildings_figure(\n",
    "    cbecs_climate_zone, comstock_climate_zone, espm_climate_zone, std_climate_zone, climate_zone_descriptor, cbecs_footnote_text\n",
    ")"
   ]
  },
  {
   "cell_type": "markdown",
   "metadata": {},
   "source": [
    "# Climate Zone 4A"
   ]
  },
  {
   "cell_type": "code",
   "execution_count": null,
   "metadata": {},
   "outputs": [],
   "source": [
    "# Define parameters for functions\n",
    "\n",
    "cbecs_climate_zone = 3\n",
    "comstock_climate_zone = \"4A\"\n",
    "espm_climate_zone = \"4A\"\n",
    "std_climate_zone = \"4A\"\n",
    "climate_zone_descriptor = \"(Mixed-Humid)\"\n",
    "cbecs_footnote_text = \"*CBECs data uses a grouping of Mixed Mild climate zones (4A, 4B, 4C)\""
   ]
  },
  {
   "cell_type": "code",
   "execution_count": null,
   "metadata": {},
   "outputs": [],
   "source": [
    "all_buildings_figure(\n",
    "    cbecs_climate_zone, comstock_climate_zone, espm_climate_zone, std_climate_zone, climate_zone_descriptor, cbecs_footnote_text\n",
    ")"
   ]
  },
  {
   "cell_type": "code",
   "execution_count": null,
   "metadata": {},
   "outputs": [],
   "source": [
    "all_buildings_percentile_comparisons(\n",
    "    cbecs_climate_zone, comstock_climate_zone, espm_climate_zone, std_climate_zone, climate_zone_descriptor\n",
    ")"
   ]
  },
  {
   "cell_type": "code",
   "execution_count": null,
   "metadata": {},
   "outputs": [],
   "source": [
    "retail_and_office_buildings_figure(\n",
    "    cbecs_climate_zone, comstock_climate_zone, espm_climate_zone, std_climate_zone, climate_zone_descriptor, cbecs_footnote_text\n",
    ")"
   ]
  },
  {
   "cell_type": "markdown",
   "metadata": {},
   "source": [
    "# Climate Zone 4B"
   ]
  },
  {
   "cell_type": "code",
   "execution_count": null,
   "metadata": {},
   "outputs": [],
   "source": [
    "# Define parameters for functions\n",
    "\n",
    "cbecs_climate_zone = 3\n",
    "comstock_climate_zone = \"4B\"\n",
    "espm_climate_zone = \"4B\"\n",
    "std_climate_zone = \"4B\"\n",
    "climate_zone_descriptor = \"(Mixed-Dry)\"\n",
    "cbecs_footnote_text = \"*CBECs data uses a grouping of Mixed Mild climate zones (4A, 4B, 4C)\""
   ]
  },
  {
   "cell_type": "code",
   "execution_count": null,
   "metadata": {},
   "outputs": [],
   "source": [
    "all_buildings_figure(\n",
    "    cbecs_climate_zone, comstock_climate_zone, espm_climate_zone, std_climate_zone, climate_zone_descriptor, cbecs_footnote_text\n",
    ")"
   ]
  },
  {
   "cell_type": "code",
   "execution_count": null,
   "metadata": {},
   "outputs": [],
   "source": [
    "all_buildings_percentile_comparisons(\n",
    "    cbecs_climate_zone, comstock_climate_zone, espm_climate_zone, std_climate_zone, climate_zone_descriptor\n",
    ")"
   ]
  },
  {
   "cell_type": "code",
   "execution_count": null,
   "metadata": {},
   "outputs": [],
   "source": [
    "retail_and_office_buildings_figure(\n",
    "    cbecs_climate_zone, comstock_climate_zone, espm_climate_zone, std_climate_zone, climate_zone_descriptor, cbecs_footnote_text\n",
    ")"
   ]
  },
  {
   "cell_type": "markdown",
   "metadata": {},
   "source": [
    "# Climate Zone 4C"
   ]
  },
  {
   "cell_type": "code",
   "execution_count": null,
   "metadata": {},
   "outputs": [],
   "source": [
    "# Define parameters for functions\n",
    "\n",
    "cbecs_climate_zone = 3\n",
    "comstock_climate_zone = \"4C\"\n",
    "espm_climate_zone = \"4C\"\n",
    "std_climate_zone = \"4C\"\n",
    "climate_zone_descriptor = \"(Marine)\"\n",
    "cbecs_footnote_text = \"*CBECs data uses a grouping of Mixed Mild climate zones (4A, 4B, 4C)\""
   ]
  },
  {
   "cell_type": "code",
   "execution_count": null,
   "metadata": {},
   "outputs": [],
   "source": [
    "all_buildings_figure(\n",
    "    cbecs_climate_zone, comstock_climate_zone, espm_climate_zone, std_climate_zone, climate_zone_descriptor, cbecs_footnote_text\n",
    ")"
   ]
  },
  {
   "cell_type": "code",
   "execution_count": null,
   "metadata": {},
   "outputs": [],
   "source": [
    "all_buildings_percentile_comparisons(\n",
    "    cbecs_climate_zone, comstock_climate_zone, espm_climate_zone, std_climate_zone, climate_zone_descriptor\n",
    ")"
   ]
  },
  {
   "cell_type": "code",
   "execution_count": null,
   "metadata": {},
   "outputs": [],
   "source": [
    "retail_and_office_buildings_figure(\n",
    "    cbecs_climate_zone, comstock_climate_zone, espm_climate_zone, std_climate_zone, climate_zone_descriptor, cbecs_footnote_text\n",
    ")"
   ]
  },
  {
   "cell_type": "markdown",
   "metadata": {},
   "source": [
    "# Climate Zone 5A"
   ]
  },
  {
   "cell_type": "code",
   "execution_count": null,
   "metadata": {},
   "outputs": [],
   "source": [
    "# Define parameters for functions\n",
    "\n",
    "cbecs_climate_zone = 2\n",
    "comstock_climate_zone = \"5A\"\n",
    "espm_climate_zone = \"5A\"\n",
    "std_climate_zone = \"5A\"\n",
    "climate_zone_descriptor = \"(Cold)\"\n",
    "cbecs_footnote_text = \"*CBECs data uses a grouping of Cool climate zones (5A, 5B)\""
   ]
  },
  {
   "cell_type": "code",
   "execution_count": null,
   "metadata": {},
   "outputs": [],
   "source": [
    "all_buildings_figure(\n",
    "    cbecs_climate_zone, comstock_climate_zone, espm_climate_zone, std_climate_zone, climate_zone_descriptor, cbecs_footnote_text\n",
    ")"
   ]
  },
  {
   "cell_type": "code",
   "execution_count": null,
   "metadata": {},
   "outputs": [],
   "source": [
    "all_buildings_percentile_comparisons(\n",
    "    cbecs_climate_zone, comstock_climate_zone, espm_climate_zone, std_climate_zone, climate_zone_descriptor\n",
    ")"
   ]
  },
  {
   "cell_type": "code",
   "execution_count": null,
   "metadata": {},
   "outputs": [],
   "source": [
    "retail_and_office_buildings_figure(\n",
    "    cbecs_climate_zone, comstock_climate_zone, espm_climate_zone, std_climate_zone, climate_zone_descriptor, cbecs_footnote_text\n",
    ")"
   ]
  },
  {
   "cell_type": "markdown",
   "metadata": {},
   "source": [
    "# Climate Zone 5B"
   ]
  },
  {
   "cell_type": "code",
   "execution_count": null,
   "metadata": {},
   "outputs": [],
   "source": [
    "# Define parameters for functions\n",
    "\n",
    "cbecs_climate_zone = 2\n",
    "comstock_climate_zone = \"5B\"\n",
    "espm_climate_zone = \"5B\"\n",
    "std_climate_zone = \"5B\"\n",
    "climate_zone_descriptor = \"(Cold)\"\n",
    "cbecs_footnote_text = \"*CBECs data uses a grouping of Cool climate zones (5A, 5B)\""
   ]
  },
  {
   "cell_type": "code",
   "execution_count": null,
   "metadata": {},
   "outputs": [],
   "source": [
    "all_buildings_figure(\n",
    "    cbecs_climate_zone, comstock_climate_zone, espm_climate_zone, std_climate_zone, climate_zone_descriptor, cbecs_footnote_text\n",
    ")"
   ]
  },
  {
   "cell_type": "code",
   "execution_count": null,
   "metadata": {},
   "outputs": [],
   "source": [
    "all_buildings_percentile_comparisons(\n",
    "    cbecs_climate_zone, comstock_climate_zone, espm_climate_zone, std_climate_zone, climate_zone_descriptor\n",
    ")"
   ]
  },
  {
   "cell_type": "code",
   "execution_count": null,
   "metadata": {},
   "outputs": [],
   "source": [
    "retail_and_office_buildings_figure(\n",
    "    cbecs_climate_zone, comstock_climate_zone, espm_climate_zone, std_climate_zone, climate_zone_descriptor, cbecs_footnote_text\n",
    ")"
   ]
  },
  {
   "cell_type": "markdown",
   "metadata": {},
   "source": [
    "# Climate Zone 6A"
   ]
  },
  {
   "cell_type": "code",
   "execution_count": null,
   "metadata": {},
   "outputs": [],
   "source": [
    "# Define parameters for functions\n",
    "\n",
    "cbecs_climate_zone = 1\n",
    "comstock_climate_zone = \"6A\"\n",
    "espm_climate_zone = \"6A\"\n",
    "std_climate_zone = \"6A\"\n",
    "climate_zone_descriptor = \"(Cold)\"\n",
    "cbecs_footnote_text = \"*CBECs data uses a grouping of Cold and Very Cold climate zones (6A, 6B, 7, 8)\""
   ]
  },
  {
   "cell_type": "code",
   "execution_count": null,
   "metadata": {},
   "outputs": [],
   "source": [
    "all_buildings_figure(\n",
    "    cbecs_climate_zone, comstock_climate_zone, espm_climate_zone, std_climate_zone, climate_zone_descriptor, cbecs_footnote_text\n",
    ")"
   ]
  },
  {
   "cell_type": "code",
   "execution_count": null,
   "metadata": {},
   "outputs": [],
   "source": [
    "all_buildings_percentile_comparisons(\n",
    "    cbecs_climate_zone, comstock_climate_zone, espm_climate_zone, std_climate_zone, climate_zone_descriptor\n",
    ")"
   ]
  },
  {
   "cell_type": "code",
   "execution_count": null,
   "metadata": {},
   "outputs": [],
   "source": [
    "retail_and_office_buildings_figure(\n",
    "    cbecs_climate_zone, comstock_climate_zone, espm_climate_zone, std_climate_zone, climate_zone_descriptor, cbecs_footnote_text\n",
    ")"
   ]
  },
  {
   "cell_type": "markdown",
   "metadata": {},
   "source": [
    "# Climate Zone 6B"
   ]
  },
  {
   "cell_type": "code",
   "execution_count": null,
   "metadata": {},
   "outputs": [],
   "source": [
    "# Define parameters for functions\n",
    "\n",
    "cbecs_climate_zone = 1\n",
    "comstock_climate_zone = \"6B\"\n",
    "espm_climate_zone = \"6B\"\n",
    "std_climate_zone = \"6B\"\n",
    "climate_zone_descriptor = \"(Cold)\"\n",
    "cbecs_footnote_text = \"*CBECs data uses a grouping of Cold and Very Cold climate zones (6A, 6B, 7, 8)\""
   ]
  },
  {
   "cell_type": "code",
   "execution_count": null,
   "metadata": {},
   "outputs": [],
   "source": [
    "all_buildings_figure(\n",
    "    cbecs_climate_zone, comstock_climate_zone, espm_climate_zone, std_climate_zone, climate_zone_descriptor, cbecs_footnote_text\n",
    ")"
   ]
  },
  {
   "cell_type": "code",
   "execution_count": null,
   "metadata": {},
   "outputs": [],
   "source": [
    "all_buildings_percentile_comparisons(\n",
    "    cbecs_climate_zone, comstock_climate_zone, espm_climate_zone, std_climate_zone, climate_zone_descriptor\n",
    ")"
   ]
  },
  {
   "cell_type": "code",
   "execution_count": null,
   "metadata": {},
   "outputs": [],
   "source": [
    "retail_and_office_buildings_figure(\n",
    "    cbecs_climate_zone, comstock_climate_zone, espm_climate_zone, std_climate_zone, climate_zone_descriptor, cbecs_footnote_text\n",
    ")"
   ]
  },
  {
   "cell_type": "markdown",
   "metadata": {},
   "source": [
    "# Climate Zone 7"
   ]
  },
  {
   "cell_type": "code",
   "execution_count": null,
   "metadata": {},
   "outputs": [],
   "source": [
    "# Define parameters for functions\n",
    "\n",
    "cbecs_climate_zone = 1\n",
    "comstock_climate_zone = \"7\"\n",
    "espm_climate_zone = \"7\"\n",
    "std_climate_zone = 7\n",
    "climate_zone_descriptor = \"(Very Cold)\"\n",
    "cbecs_footnote_text = \"*CBECs data uses a grouping of Cold and Very Cold climate zones (6A, 6B, 7, 8)\""
   ]
  },
  {
   "cell_type": "code",
   "execution_count": null,
   "metadata": {},
   "outputs": [],
   "source": [
    "all_buildings_figure(\n",
    "    cbecs_climate_zone, comstock_climate_zone, espm_climate_zone, std_climate_zone, climate_zone_descriptor, cbecs_footnote_text\n",
    ")"
   ]
  },
  {
   "cell_type": "code",
   "execution_count": null,
   "metadata": {},
   "outputs": [],
   "source": [
    "all_buildings_percentile_comparisons(\n",
    "    cbecs_climate_zone, comstock_climate_zone, espm_climate_zone, std_climate_zone, climate_zone_descriptor\n",
    ")"
   ]
  },
  {
   "cell_type": "code",
   "execution_count": null,
   "metadata": {},
   "outputs": [],
   "source": [
    "retail_and_office_buildings_figure(\n",
    "    cbecs_climate_zone, comstock_climate_zone, espm_climate_zone, std_climate_zone, climate_zone_descriptor, cbecs_footnote_text\n",
    ")"
   ]
  }
 ],
 "metadata": {
  "language_info": {
   "codemirror_mode": {
    "name": "ipython",
    "version": 3
   },
   "file_extension": ".py",
   "mimetype": "text/x-python",
   "name": "python",
   "nbconvert_exporter": "python",
   "pygments_lexer": "ipython3"
  }
 },
 "nbformat": 4,
 "nbformat_minor": 2
}
