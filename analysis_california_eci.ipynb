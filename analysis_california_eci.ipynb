{
 "cells": [
  {
   "cell_type": "code",
   "execution_count": null,
   "metadata": {},
   "outputs": [],
   "source": [
    "import warnings\n",
    "from pathlib import Path\n",
    "\n",
    "import matplotlib.pyplot as plt\n",
    "import pandas as pd\n",
    "import seaborn as sns\n",
    "\n",
    "# Allow autoreload as we develop the GMT in parallel\n",
    "%load_ext autoreload\n",
    "%autoreload 2\n",
    "\n",
    "dataset_path = Path().resolve() / \"datasets\"\n",
    "# get the full path\n",
    "print(f\"Dataset path: {dataset_path}\")\n",
    "\n",
    "data_path = dataset_path / \"comstock\"\n",
    "# get the full path\n",
    "print(f\"Data path: {data_path}\")\n",
    "\n",
    "figures_path = Path().resolve() / \"figures\" / \"cec\"\n",
    "if not figures_path.exists():\n",
    "    figures_path.mkdir(parents=True)\n",
    "print(f\"Figures path: {figures_path}\")\n",
    "\n",
    "warnings.filterwarnings(\"ignore\", category=FutureWarning)\n",
    "# ignore SettingWithCopyWarning\n",
    "pd.options.mode.chained_assignment = None"
   ]
  },
  {
   "cell_type": "markdown",
   "metadata": {},
   "source": [
    "# ComStock"
   ]
  },
  {
   "cell_type": "markdown",
   "metadata": {},
   "source": [
    "### Pull down ComStock data\n",
    "\n",
    "To do this, you should be able to just simply run the `comstock_processor.py` file within VSCode. The data will be saved into \n",
    "the ComStock subfolder. It takes a while to run (10ish minutes)."
   ]
  },
  {
   "cell_type": "code",
   "execution_count": null,
   "metadata": {},
   "outputs": [],
   "source": [
    "# %run comstock_processor.py"
   ]
  },
  {
   "cell_type": "markdown",
   "metadata": {},
   "source": [
    "### Read in ComStock data"
   ]
  },
  {
   "cell_type": "code",
   "execution_count": null,
   "metadata": {},
   "outputs": [],
   "source": [
    "# read in the comstock exported file, yes we could just read the parquet, maybe update?\n",
    "df_all = pd.read_csv(data_path / \"All-All-All-0-selected_metadata.csv\")"
   ]
  },
  {
   "cell_type": "code",
   "execution_count": null,
   "metadata": {},
   "outputs": [],
   "source": [
    "# get the dimensions\n",
    "print(df_all.shape)\n",
    "# show all states\n",
    "print(df_all[\"in.state\"].unique())\n",
    "# show all the building types\n",
    "print(df_all[\"in.comstock_building_type\"].unique())"
   ]
  },
  {
   "cell_type": "code",
   "execution_count": null,
   "metadata": {},
   "outputs": [],
   "source": [
    "# save the names of the fields to a list\n",
    "fields = df_all.columns\n",
    "with open(figures_path / \"fields.txt\", \"w\") as f:\n",
    "    f.write(\"\\n\".join(fields))"
   ]
  },
  {
   "cell_type": "code",
   "execution_count": null,
   "metadata": {},
   "outputs": [],
   "source": [
    "# find if climate zone 7A or 7B or 7\n",
    "df_ca = df_all[df_all[\"in.state\"].str.contains(\"CA\")]\n",
    "print(df_ca[\"in.building_subtype\"].unique())\n",
    "print(df_ca[\"in.comstock_building_type\"].unique())\n",
    "print(df_ca[\"in.county_name\"].unique())\n",
    "# print the dimensions for each dataframe\n",
    "print(f\"all: {df_all.shape}\")\n",
    "print(f\"cz7: {df_ca.shape}\")"
   ]
  },
  {
   "cell_type": "code",
   "execution_count": null,
   "metadata": {},
   "outputs": [],
   "source": [
    "# calculate the of buildings in each 'in.comstock_building_type'\n",
    "print(df_ca[\"in.comstock_building_type\"].value_counts())\n",
    "\n",
    "county_counts = df_ca[\"in.county_name\"].value_counts()\n",
    "# make it a dataframe\n",
    "county_counts = county_counts.reset_index()\n",
    "# in the in.county_name remove CA, and County\n",
    "county_counts[\"in.county_name\"] = county_counts[\"in.county_name\"].str.replace(\"CA,\", \"\").str.replace(\"County\", \"\")\n",
    "# and trim the remainder\n",
    "county_counts[\"in.county_name\"] = county_counts[\"in.county_name\"].str.strip()\n",
    "\n",
    "display(county_counts)  # print(df_ca[\"in.county_name\"].value_counts())"
   ]
  },
  {
   "cell_type": "code",
   "execution_count": null,
   "metadata": {},
   "outputs": [],
   "source": [
    "import geopandas as gpd\n",
    "\n",
    "# Load a built-in dataset of US counties (you need geopandas installed)\n",
    "counties_gdf = gpd.read_file(\"https://raw.githubusercontent.com/plotly/datasets/master/geojson-counties-fips.json\")\n",
    "\n",
    "# Filter for California counties (FIPS state code for CA is '06')\n",
    "california_counties = counties_gdf[counties_gdf[\"STATE\"] == \"06\"]\n",
    "\n",
    "# convert county_counts to a dictionary of format {county_name: [\"a\", \"b\", \"c\"], count: [1, 2, 3]}\n",
    "county_mapping = dict(zip(county_counts[\"in.county_name\"], county_counts[\"count\"]))\n",
    "california_counties[\"count\"] = california_counties[\"NAME\"].map(county_mapping)\n",
    "\n",
    "# Plot the map on a logscale\n",
    "fig, ax = plt.subplots(1, 1, figsize=(12, 12))\n",
    "california_counties.plot(\n",
    "    column=\"count\",\n",
    "    cmap=\"Oranges\",\n",
    "    legend=True,\n",
    "    missing_kwds={\"color\": \"lightgrey\"},\n",
    "    ax=ax,\n",
    ")\n",
    "plt.title(\"California Buildings with Counts\", fontsize=16)\n",
    "plt.show()\n",
    "\n",
    "# create another plot but without Los Angeles\n",
    "fig, ax = plt.subplots(1, 1, figsize=(12, 12))\n",
    "california_counties[california_counties[\"NAME\"] != \"Los Angeles\"].plot(\n",
    "    column=\"count\",\n",
    "    cmap=\"Oranges\",\n",
    "    legend=True,\n",
    "    missing_kwds={\"color\": \"lightgrey\"},\n",
    "    ax=ax,\n",
    ")\n",
    "plt.title(\"California Buildings (without LA) with Counts\", fontsize=16)"
   ]
  },
  {
   "cell_type": "code",
   "execution_count": null,
   "metadata": {},
   "outputs": [],
   "source": [
    "df_ca[\"EUI_kBTUft2\"] = df_ca[\"out.site_energy.total.energy_consumption_intensity\"] * 3.412\n",
    "\n",
    "# return the quartiles of the column out.site_energy.total.energy_consumption_intensity\n",
    "print(df_ca[\"EUI_kBTUft2\"].describe())\n",
    "print(df_ca[\"out.site_energy.total.energy_consumption_intensity\"].describe())\n",
    "df_ca[\"EUI_distcool_kBTUft2\"] = (\n",
    "    df_ca[\"calc.enduse_group.district_cooling.hvac.energy_consumption..kwh\"] / df_ca[\"in.sqft\"]\n",
    ") * 3.412  # from kwh/ft2 to kbtu/ft2\n",
    "print(df_ca[\"EUI_distcool_kBTUft2\"].describe())\n",
    "\n",
    "# plot just distcool\n",
    "sns.kdeplot(df_ca[\"EUI_distcool_kBTUft2\"])\n",
    "plt.xlim(-10, 25)"
   ]
  }
 ],
 "metadata": {
  "kernelspec": {
   "display_name": "3.10.6-general",
   "language": "python",
   "name": "python3"
  },
  "language_info": {
   "codemirror_mode": {
    "name": "ipython",
    "version": 3
   },
   "file_extension": ".py",
   "mimetype": "text/x-python",
   "name": "python",
   "nbconvert_exporter": "python",
   "pygments_lexer": "ipython3",
   "version": "3.10.6"
  }
 },
 "nbformat": 4,
 "nbformat_minor": 2
}
