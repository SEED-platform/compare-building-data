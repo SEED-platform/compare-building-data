{
 "cells": [
  {
   "cell_type": "code",
   "execution_count": null,
   "metadata": {},
   "outputs": [],
   "source": [
    "import warnings\n",
    "from pathlib import Path\n",
    "\n",
    "import matplotlib.pyplot as plt\n",
    "import pandas as pd\n",
    "from IPython.display import HTML\n",
    "\n",
    "# Allow autoreload as we develop the GMT in parallel\n",
    "%load_ext autoreload\n",
    "%autoreload 2\n",
    "\n",
    "dataset_path = Path().resolve() / \"datasets\"\n",
    "# get the full path\n",
    "print(f\"Dataset path: {dataset_path}\")\n",
    "\n",
    "data_path = dataset_path / \"comstock\"\n",
    "# get the full path\n",
    "print(f\"Data path: {data_path}\")\n",
    "\n",
    "figures_path = Path().resolve() / \"figures\" / \"cec\"\n",
    "if not figures_path.exists():\n",
    "    figures_path.mkdir(parents=True)\n",
    "print(f\"Figures path: {figures_path}\")\n",
    "\n",
    "warnings.filterwarnings(\"ignore\", category=FutureWarning)\n",
    "# ignore SettingWithCopyWarning\n",
    "pd.options.mode.chained_assignment = None"
   ]
  },
  {
   "cell_type": "markdown",
   "metadata": {},
   "source": [
    "# ComStock"
   ]
  },
  {
   "cell_type": "markdown",
   "metadata": {},
   "source": [
    "### Pull down ComStock data\n",
    "\n",
    "To do this, you should be able to just simply run the `comstock_processor.py` file within VSCode. The data will be saved into \n",
    "the ComStock subfolder. It takes a while to run (10ish minutes)."
   ]
  },
  {
   "cell_type": "code",
   "execution_count": null,
   "metadata": {},
   "outputs": [],
   "source": [
    "# %run comstock_processor.py"
   ]
  },
  {
   "cell_type": "markdown",
   "metadata": {},
   "source": [
    "### Read in ComStock data"
   ]
  },
  {
   "cell_type": "code",
   "execution_count": null,
   "metadata": {},
   "outputs": [],
   "source": [
    "# read in the comstock exported file, yes we could just read the parquet, maybe update?\n",
    "df_all = pd.read_csv(data_path / \"All-All-All-0-selected_metadata.csv\")"
   ]
  },
  {
   "cell_type": "code",
   "execution_count": null,
   "metadata": {},
   "outputs": [],
   "source": [
    "# get the dimensions\n",
    "print(df_all.shape)\n",
    "# show all states\n",
    "print(df_all[\"in.state\"].unique())\n",
    "# show all the building types\n",
    "print(df_all[\"in.comstock_building_type\"].unique())"
   ]
  },
  {
   "cell_type": "code",
   "execution_count": null,
   "metadata": {},
   "outputs": [],
   "source": [
    "# save the names of the fields to a list\n",
    "fields = df_all.columns\n",
    "with open(data_path / \"fields.txt\", \"w\") as f:\n",
    "    f.write(\"\\n\".join(fields))"
   ]
  },
  {
   "cell_type": "code",
   "execution_count": null,
   "metadata": {},
   "outputs": [],
   "source": [
    "# only buildings in CA\n",
    "df_ca = df_all[df_all[\"in.state\"].str.contains(\"CA\")]\n",
    "print(f\"all: {df_all.shape}\")\n",
    "print(f\"cz7: {df_ca.shape}\")\n",
    "for to_display in [\"in.building_subtype\", \"in.comstock_building_type\"]:\n",
    "    df_to_show = df_ca[to_display].value_counts()\n",
    "    df_to_show = df_to_show.reset_index()\n",
    "    display(HTML(df_to_show.to_html(index=False, border=1)))"
   ]
  },
  {
   "cell_type": "code",
   "execution_count": null,
   "metadata": {},
   "outputs": [],
   "source": [
    "# calculate the of buildings in each 'in.comstock_building_type'\n",
    "# print(df_ca[\"in.comstock_building_type\"].value_counts())\n",
    "\n",
    "county_counts = df_ca[\"in.county_name\"].value_counts()\n",
    "# make it a dataframe\n",
    "county_counts = county_counts.reset_index()\n",
    "# in the in.county_name remove CA, and County\n",
    "county_counts[\"in.county_name\"] = county_counts[\"in.county_name\"].str.replace(\"CA,\", \"\").str.replace(\"County\", \"\")\n",
    "# and trim the remainder\n",
    "county_counts[\"in.county_name\"] = county_counts[\"in.county_name\"].str.strip()\n",
    "\n",
    "# display the counts nicely, but with no index\n",
    "display(HTML(county_counts.to_html(index=False, border=1)))"
   ]
  },
  {
   "cell_type": "code",
   "execution_count": null,
   "metadata": {},
   "outputs": [],
   "source": [
    "import geopandas as gpd\n",
    "\n",
    "# Load a built-in dataset of US counties (you need geopandas installed)\n",
    "counties_gdf = gpd.read_file(\"https://raw.githubusercontent.com/plotly/datasets/master/geojson-counties-fips.json\")\n",
    "\n",
    "# Filter for California counties (FIPS state code for CA is '06')\n",
    "california_counties = counties_gdf[counties_gdf[\"STATE\"] == \"06\"]\n",
    "\n",
    "# convert county_counts to a dictionary of format {county_name: [\"a\", \"b\", \"c\"], count: [1, 2, 3]}\n",
    "county_mapping = dict(zip(county_counts[\"in.county_name\"], county_counts[\"count\"]))\n",
    "california_counties[\"count\"] = california_counties[\"NAME\"].map(county_mapping)\n",
    "\n",
    "# Plot the map on a logscale\n",
    "fig, ax = plt.subplots(1, 1, figsize=(12, 12))\n",
    "california_counties.plot(\n",
    "    column=\"count\",\n",
    "    cmap=\"Oranges\",\n",
    "    legend=True,\n",
    "    missing_kwds={\"color\": \"lightgrey\"},\n",
    "    ax=ax,\n",
    ")\n",
    "plt.title(\"Count of ComStock Buildings in CA\", fontsize=16)\n",
    "plt.show()\n",
    "\n",
    "# create another plot but without Los Angeles\n",
    "fig, ax = plt.subplots(1, 1, figsize=(12, 12))\n",
    "california_counties[california_counties[\"NAME\"] != \"Los Angeles\"].plot(\n",
    "    column=\"count\",\n",
    "    cmap=\"Oranges\",\n",
    "    legend=True,\n",
    "    missing_kwds={\"color\": \"lightgrey\"},\n",
    "    ax=ax,\n",
    ")\n",
    "plt.title(\"Count of ComStock Buildings in CA (without LA)\", fontsize=16)"
   ]
  },
  {
   "cell_type": "code",
   "execution_count": null,
   "metadata": {},
   "outputs": [],
   "source": [
    "# create a pie chart of the total energy in kWh of district cooling, district heating, electricity, natural gas\n",
    "meters = [\n",
    "    \"out.district_cooling.total.energy_consumption\",\n",
    "    \"out.district_heating.total.energy_consumption\",\n",
    "    \"out.electricity.total.energy_consumption\",\n",
    "    \"out.natural_gas.total.energy_consumption\",\n",
    "    \"out.other_fuel.total.energy_consumption\",\n",
    "]\n",
    "\n",
    "# create a new dataframe with the sum of each meter\n",
    "df_meters = df_ca[meters].sum()\n",
    "print(df_meters)\n",
    "# rename the columns to be shorter, electricity, natural gas, distirct heating,\n",
    "# district cooling, and other fuel\n",
    "df_meters = df_meters.rename(\n",
    "    {\n",
    "        \"out.district_cooling.total.energy_consumption\": \"District Cooling\",\n",
    "        \"out.district_heating.total.energy_consumption\": \"District Heating\",\n",
    "        \"out.electricity.total.energy_consumption\": \"Electricity\",\n",
    "        \"out.natural_gas.total.energy_consumption\": \"Natural Gas\",\n",
    "        \"out.other_fuel.total.energy_consumption\": \"Other Fuel\",\n",
    "    }\n",
    ")\n",
    "\n",
    "\n",
    "# plot the meter totals as a pie chart\n",
    "fig, ax = plt.subplots(1, 1, figsize=(6, 6))\n",
    "plt.pie(df_meters, labels=df_meters.index, autopct=\"%1.1f%%\")\n",
    "plt.title(\"ComStock - Energy Consumption by Meter Type\", fontsize=16)\n",
    "\n",
    "# now show the heating fuel type by count\n",
    "df_heating = df_ca[\"in.heating_fuel\"].value_counts()\n",
    "df_heating = df_heating.reset_index()\n",
    "display(HTML(df_heating.to_html(index=False, border=1)))\n",
    "# make a pie chart of count of heating fuels\n",
    "fig, ax = plt.subplots(1, 1, figsize=(6, 6))\n",
    "plt.pie(df_heating[\"count\"], labels=df_heating[\"in.heating_fuel\"], autopct=\"%1.1f%%\")\n",
    "plt.title(\"ComStock - Heating Fuel Type by Count\", fontsize=16)"
   ]
  }
 ],
 "metadata": {
  "kernelspec": {
   "display_name": "3.12.7-compare",
   "language": "python",
   "name": "python3"
  },
  "language_info": {
   "codemirror_mode": {
    "name": "ipython",
    "version": 3
   },
   "file_extension": ".py",
   "mimetype": "text/x-python",
   "name": "python",
   "nbconvert_exporter": "python",
   "pygments_lexer": "ipython3",
   "version": "3.12.7"
  }
 },
 "nbformat": 4,
 "nbformat_minor": 2
}
